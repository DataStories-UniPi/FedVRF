{
 "cells": [
  {
   "cell_type": "code",
   "execution_count": 1,
   "metadata": {},
   "outputs": [
    {
     "name": "stderr",
     "output_type": "stream",
     "text": [
      "/Users/andrewt/miniforge3/envs/torch/lib/python3.10/site-packages/tqdm/auto.py:22: TqdmWarning: IProgress not found. Please update jupyter and ipywidgets. See https://ipywidgets.readthedocs.io/en/stable/user_install.html\n",
      "  from .autonotebook import tqdm as notebook_tqdm\n"
     ]
    }
   ],
   "source": [
    "import torch\n",
    "import pandas as pd\n",
    "\n",
    "import matplotlib.pyplot as plt"
   ]
  },
  {
   "cell_type": "code",
   "execution_count": 2,
   "metadata": {},
   "outputs": [],
   "source": [
    "import train as tr\n",
    "import dataset as ds\n",
    "import models as ml"
   ]
  },
  {
   "cell_type": "code",
   "execution_count": null,
   "metadata": {},
   "outputs": [],
   "source": []
  },
  {
   "attachments": {},
   "cell_type": "markdown",
   "metadata": {},
   "source": [
    "# Load Test Datasets"
   ]
  },
  {
   "cell_type": "code",
   "execution_count": 3,
   "metadata": {},
   "outputs": [],
   "source": [
    "brest_delta_series = pd.read_pickle('./data/pkl/brest_dataset_window_1024_stride_1024_crs_3857__.traj_delta_windows.pickle')\n",
    "norway_delta_series = pd.read_pickle('./data/pkl/norway_dataset_window_1024_stride_1024_crs_3857__.traj_delta_windows.pickle')\n",
    "pireaus_delta_series = pd.read_pickle('./data/pkl/piraeus_dataset_window_1024_stride_1024_crs_3857__.traj_delta_windows.pickle')\n",
    "\n",
    "brest_ix_series = pd.read_pickle('./data/pkl/brest_dataset_train_dev_test_indices_stratified.pkl') \n",
    "norway_ix_series = pd.read_pickle('./data/pkl/norway_dataset_train_dev_test_indices_.pkl') \n",
    "piraeus_ix_series = pd.read_pickle('./data/pkl/piraeus_dataset_train_dev_test_indices_stratified.pkl') "
   ]
  },
  {
   "cell_type": "code",
   "execution_count": 4,
   "metadata": {},
   "outputs": [],
   "source": [
    "brest_delta_series_train, brest_delta_series_test = brest_delta_series.iloc[brest_ix_series['train']].copy(), brest_delta_series.iloc[brest_ix_series['test']].copy() \n",
    "norway_delta_series_train, norway_delta_series_test = norway_delta_series.iloc[norway_ix_series['train']].copy(), norway_delta_series.iloc[norway_ix_series['test']].copy() \n",
    "pireaus_delta_series_train, pireaus_delta_series_test = pireaus_delta_series.iloc[piraeus_ix_series['train']].copy(), pireaus_delta_series.iloc[piraeus_ix_series['test']].copy() "
   ]
  },
  {
   "cell_type": "code",
   "execution_count": null,
   "metadata": {},
   "outputs": [],
   "source": []
  },
  {
   "attachments": {},
   "cell_type": "markdown",
   "metadata": {},
   "source": [
    "# Load Models"
   ]
  },
  {
   "cell_type": "code",
   "execution_count": 5,
   "metadata": {},
   "outputs": [
    {
     "name": "stderr",
     "output_type": "stream",
     "text": [
      "/Users/andrewt/miniforge3/envs/torch/lib/python3.10/site-packages/sklearn/base.py:329: UserWarning: Trying to unpickle estimator StandardScaler from version 1.2.2 when using version 1.1.3. This might lead to breaking code or invalid results. Use at your own risk. For more info please refer to:\n",
      "https://scikit-learn.org/stable/model_persistence.html#security-maintainability-limitations\n",
      "  warnings.warn(\n"
     ]
    }
   ],
   "source": [
    "fedvrf_brest = torch.load('./data/pth/perfl/lstm_1_350_fc_150window_1024_stride_1024_crs_3857___batchsize_1__brest_dataset_stratified.flwr_local.pth', map_location=torch.device('cpu'))\n",
    "fedvrf_norway = torch.load('./data/pth/perfl/lstm_1_350_fc_150window_1024_stride_1024_crs_3857___batchsize_1__norway_dataset_.flwr_local.pth', map_location=torch.device('cpu'))\n",
    "fedvrf_pireaus = torch.load('./data/pth/perfl/lstm_1_350_fc_150window_1024_stride_1024_crs_3857___batchsize_1__piraeus_dataset_stratified.flwr_local.pth', map_location=torch.device('cpu'))\n",
    "fedvrf_global = torch.load('./data/pth/perfl/lstm_1_350_fc_150_window_1024_stride_1024_crs_3857___.flwr_global_epoch170.pth', map_location=torch.device('cpu'))"
   ]
  },
  {
   "cell_type": "code",
   "execution_count": null,
   "metadata": {},
   "outputs": [],
   "source": []
  },
  {
   "cell_type": "code",
   "execution_count": 9,
   "metadata": {},
   "outputs": [
    {
     "name": "stdout",
     "output_type": "stream",
     "text": [
      "self.eps=0.0001\n"
     ]
    },
    {
     "name": "stderr",
     "output_type": "stream",
     "text": [
      "                                                                          \r"
     ]
    },
    {
     "name": "stdout",
     "output_type": "stream",
     "text": [
      "Loss: 93.33247 |  Accuracy: 131.99202 | 42.92935; 535.57526; 1123.35376; 1546.13069; 2477.82376; 2402.55439; 1934.39757 m\n"
     ]
    },
    {
     "data": {
      "text/plain": [
       "(tensor(93.3325), 131.99202332826044)"
      ]
     },
     "execution_count": 9,
     "metadata": {},
     "output_type": "execute_result"
    }
   ],
   "source": [
    "# FedVRF (Brest; Global Model)\n",
    "test_set = ds.VRFDataset(brest_delta_series_test, scaler=fedvrf_brest['scaler'])\n",
    "test_loader = torch.utils.data.DataLoader(test_set, batch_size=1, collate_fn=test_set.pad_collate)\n",
    "\n",
    "fedvrf_global_model = ml.VesselRouteForecasting(\n",
    "    hidden_size=350, fc_layers=[150,], scale=dict(\n",
    "        mu=torch.tensor(fedvrf_brest['scaler'].mean_[:2]), \n",
    "        sigma=torch.tensor(fedvrf_brest['scaler'].scale_[:2])\n",
    "    )\n",
    ")\n",
    "fedvrf_global_model.load_state_dict(fedvrf_global['model_state_dict'])\n",
    "fedvrf_global_model.eval()\n",
    "\n",
    "tr.evaluate_model(fedvrf_global_model, torch.device('cpu'), criterion=tr.RMSELoss(eps=1e-4), test_loader=test_loader)"
   ]
  },
  {
   "cell_type": "code",
   "execution_count": null,
   "metadata": {},
   "outputs": [],
   "source": []
  },
  {
   "cell_type": "code",
   "execution_count": 10,
   "metadata": {},
   "outputs": [
    {
     "name": "stdout",
     "output_type": "stream",
     "text": [
      "self.eps=0.0001\n"
     ]
    },
    {
     "name": "stderr",
     "output_type": "stream",
     "text": [
      "                                                                           \r"
     ]
    },
    {
     "name": "stdout",
     "output_type": "stream",
     "text": [
      "Loss: 5.76135 |  Accuracy: 8.14774 | 7.25030; 355.48074; 658.99588; 99.50950; 923.48178; 1095.47244; nan m\n"
     ]
    },
    {
     "data": {
      "text/plain": [
       "(tensor(5.7613), 8.147743728623084)"
      ]
     },
     "execution_count": 10,
     "metadata": {},
     "output_type": "execute_result"
    }
   ],
   "source": [
    "# FedVRF (Norway; Global Model)\n",
    "test_set = ds.VRFDataset(norway_delta_series_test, scaler=fedvrf_norway['scaler'])\n",
    "test_loader = torch.utils.data.DataLoader(test_set, batch_size=1, collate_fn=test_set.pad_collate)\n",
    "\n",
    "fedvrf_global_model_nor = ml.VesselRouteForecasting(\n",
    "    hidden_size=350, fc_layers=[150,], scale=dict(\n",
    "        mu=torch.tensor(fedvrf_norway['scaler'].mean_[:2]), \n",
    "        sigma=torch.tensor(fedvrf_norway['scaler'].scale_[:2])\n",
    "    )\n",
    ")\n",
    "fedvrf_global_model_nor.load_state_dict(fedvrf_global['model_state_dict'])\n",
    "fedvrf_global_model_nor.eval()\n",
    "\n",
    "tr.evaluate_model(fedvrf_global_model_nor, torch.device('cpu'), criterion=tr.RMSELoss(eps=1e-4), test_loader=test_loader)"
   ]
  },
  {
   "cell_type": "code",
   "execution_count": null,
   "metadata": {},
   "outputs": [],
   "source": []
  },
  {
   "cell_type": "code",
   "execution_count": 11,
   "metadata": {},
   "outputs": [
    {
     "name": "stdout",
     "output_type": "stream",
     "text": [
      "self.eps=0.0001\n"
     ]
    },
    {
     "name": "stderr",
     "output_type": "stream",
     "text": [
      "                                                                           \r"
     ]
    },
    {
     "name": "stdout",
     "output_type": "stream",
     "text": [
      "Loss: 59.94801 |  Accuracy: 84.77926 | 37.23819; 441.44862; 974.67588; 1545.55927; 3222.29111; 2636.96627; 2830.85819 m\n"
     ]
    },
    {
     "data": {
      "text/plain": [
       "(tensor(59.9480), 84.77926496393852)"
      ]
     },
     "execution_count": 11,
     "metadata": {},
     "output_type": "execute_result"
    }
   ],
   "source": [
    "# FedVRF (Piraeus; Global Model)\n",
    "test_set = ds.VRFDataset(pireaus_delta_series_test, scaler=fedvrf_pireaus['scaler'])\n",
    "test_loader = torch.utils.data.DataLoader(test_set, batch_size=1, collate_fn=test_set.pad_collate)\n",
    "\n",
    "fedvrf_global_model_pir = ml.VesselRouteForecasting(\n",
    "    hidden_size=350, fc_layers=[150,], scale=dict(\n",
    "        mu=torch.tensor(fedvrf_pireaus['scaler'].mean_[:2]), \n",
    "        sigma=torch.tensor(fedvrf_pireaus['scaler'].scale_[:2])\n",
    "    )\n",
    ")\n",
    "fedvrf_global_model_pir.load_state_dict(fedvrf_global['model_state_dict'])\n",
    "fedvrf_global_model_pir.eval()\n",
    "\n",
    "tr.evaluate_model(fedvrf_global_model_pir, torch.device('cpu'), criterion=tr.RMSELoss(eps=1e-4), test_loader=test_loader)"
   ]
  },
  {
   "cell_type": "code",
   "execution_count": null,
   "metadata": {},
   "outputs": [],
   "source": []
  }
 ],
 "metadata": {
  "kernelspec": {
   "display_name": "Python (PyTorch)",
   "language": "python",
   "name": "torch"
  },
  "language_info": {
   "codemirror_mode": {
    "name": "ipython",
    "version": 3
   },
   "file_extension": ".py",
   "mimetype": "text/x-python",
   "name": "python",
   "nbconvert_exporter": "python",
   "pygments_lexer": "ipython3",
   "version": "3.10.0"
  },
  "orig_nbformat": 4
 },
 "nbformat": 4,
 "nbformat_minor": 2
}
