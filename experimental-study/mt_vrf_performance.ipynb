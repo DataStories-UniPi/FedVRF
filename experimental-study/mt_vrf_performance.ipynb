{
 "cells": [
  {
   "cell_type": "code",
   "execution_count": 1,
   "metadata": {},
   "outputs": [
    {
     "name": "stderr",
     "output_type": "stream",
     "text": [
      "/Users/andrewt/miniforge3/envs/torch/lib/python3.10/site-packages/tqdm/auto.py:22: TqdmWarning: IProgress not found. Please update jupyter and ipywidgets. See https://ipywidgets.readthedocs.io/en/stable/user_install.html\n",
      "  from .autonotebook import tqdm as notebook_tqdm\n"
     ]
    }
   ],
   "source": [
    "import torch\n",
    "import pandas as pd\n",
    "\n",
    "import matplotlib.pyplot as plt"
   ]
  },
  {
   "cell_type": "code",
   "execution_count": 2,
   "metadata": {},
   "outputs": [],
   "source": [
    "import train as tr\n",
    "import dataset as ds\n",
    "import models as ml"
   ]
  },
  {
   "cell_type": "code",
   "execution_count": null,
   "metadata": {},
   "outputs": [],
   "source": []
  },
  {
   "attachments": {},
   "cell_type": "markdown",
   "metadata": {},
   "source": [
    "# Load Test Dataset"
   ]
  },
  {
   "cell_type": "code",
   "execution_count": 3,
   "metadata": {},
   "outputs": [],
   "source": [
    "mt_delta_series = pd.read_pickle('./data/pkl/mt_dataset_window_1024_stride_1024_crs_3857__.traj_delta_windows.pickle')\n",
    "mt_ix_series = pd.read_pickle('./data/pkl/mt_dataset_train_dev_test_indices.pkl') "
   ]
  },
  {
   "cell_type": "code",
   "execution_count": 4,
   "metadata": {},
   "outputs": [],
   "source": [
    "mt_delta_series_train, mt_delta_series_test = mt_delta_series.iloc[mt_ix_series['train']].copy(), mt_delta_series.iloc[mt_ix_series['test']].copy() "
   ]
  },
  {
   "cell_type": "code",
   "execution_count": null,
   "metadata": {},
   "outputs": [],
   "source": []
  },
  {
   "attachments": {},
   "cell_type": "markdown",
   "metadata": {},
   "source": [
    "# Load Models"
   ]
  },
  {
   "cell_type": "code",
   "execution_count": 5,
   "metadata": {},
   "outputs": [
    {
     "name": "stderr",
     "output_type": "stream",
     "text": [
      "/Users/andrewt/miniforge3/envs/torch/lib/python3.10/site-packages/sklearn/base.py:329: UserWarning: Trying to unpickle estimator StandardScaler from version 1.2.2 when using version 1.1.3. This might lead to breaking code or invalid results. Use at your own risk. For more info please refer to:\n",
      "https://scikit-learn.org/stable/model_persistence.html#security-maintainability-limitations\n",
      "  warnings.warn(\n"
     ]
    },
    {
     "name": "stdout",
     "output_type": "stream",
     "text": [
      "[ -0.96859954  14.77653149 172.8909031  173.00816983]\t[808.73788616 787.17245178 104.25695548 104.38338508]\n",
      "self.eps=0.0001\n"
     ]
    },
    {
     "name": "stderr",
     "output_type": "stream",
     "text": [
      "                                                                            \r"
     ]
    },
    {
     "name": "stdout",
     "output_type": "stream",
     "text": [
      "Loss: 164.36008 |  Accuracy: 232.44022 | 148.99826; 284.90671; 520.33667; 785.26244; 1224.14243; 2077.23365; 1378.18813 m\n"
     ]
    },
    {
     "data": {
      "text/plain": [
       "(tensor(164.3601), 232.44021906810704)"
      ]
     },
     "execution_count": 5,
     "metadata": {},
     "output_type": "execute_result"
    }
   ],
   "source": [
    "# VRF (share-nothing)\n",
    "vrf_sn_cml = torch.load('./data/pth/lstm_1_350_fc_150_share_all_window_1024_stride_1024_crs_3857___batchsize_1__mt_dataset.pth', map_location=torch.device('cpu'))\n",
    "print(vrf_sn_cml['scaler'].mean_, vrf_sn_cml['scaler'].scale_, sep='\\t')\n",
    "\n",
    "test_set = ds.VRFDataset(mt_delta_series_test, scaler=vrf_sn_cml['scaler'])\n",
    "test_loader = torch.utils.data.DataLoader(test_set, batch_size=1, collate_fn=test_set.pad_collate)\n",
    "\n",
    "vrf_sn_cml_model = ml.VesselRouteForecasting(\n",
    "    hidden_size=350, fc_layers=[150,], scale=dict(\n",
    "        mu=torch.tensor(vrf_sn_cml['scaler'].mean_[:2]), \n",
    "        sigma=torch.tensor(vrf_sn_cml['scaler'].scale_[:2])\n",
    "    )\n",
    ")\n",
    "vrf_sn_cml_model.load_state_dict(vrf_sn_cml['model_state_dict'])\n",
    "vrf_sn_cml_model.eval()\n",
    "\n",
    "tr.evaluate_model(vrf_sn_cml_model, torch.device('cpu'), criterion=tr.RMSELoss(eps=1e-4), test_loader=test_loader)"
   ]
  },
  {
   "cell_type": "code",
   "execution_count": null,
   "metadata": {},
   "outputs": [],
   "source": []
  },
  {
   "cell_type": "code",
   "execution_count": 6,
   "metadata": {},
   "outputs": [
    {
     "name": "stderr",
     "output_type": "stream",
     "text": [
      "/Users/andrewt/miniforge3/envs/torch/lib/python3.10/site-packages/sklearn/base.py:329: UserWarning: Trying to unpickle estimator StandardScaler from version 1.2.2 when using version 1.1.3. This might lead to breaking code or invalid results. Use at your own risk. For more info please refer to:\n",
      "https://scikit-learn.org/stable/model_persistence.html#security-maintainability-limitations\n",
      "  warnings.warn(\n"
     ]
    },
    {
     "name": "stdout",
     "output_type": "stream",
     "text": [
      "[ 0.09815655  0.22542278 10.77163869 10.71747927]\t[78.86009587 89.01867555 40.11217641 39.27786561]\n",
      "self.eps=0.0001\n"
     ]
    },
    {
     "name": "stderr",
     "output_type": "stream",
     "text": [
      "                                                                            \r"
     ]
    },
    {
     "name": "stdout",
     "output_type": "stream",
     "text": [
      "Loss: 288.00873 |  Accuracy: 407.30584 | 258.72935; 511.18140; 1009.59893; 1458.71494; 1764.51012; 3006.27356; 4735.78398 m\n"
     ]
    },
    {
     "data": {
      "text/plain": [
       "(tensor(288.0087), 407.3058352127069)"
      ]
     },
     "execution_count": 6,
     "metadata": {},
     "output_type": "execute_result"
    }
   ],
   "source": [
    "# VRF (share-data)\n",
    "vrf_sd_cml = torch.load('./data/pth/lstm_1_350_fc_150_share_all_window_1024_stride_1024_crs_3857___batchsize_1__share_all.pth', map_location=torch.device('cpu'))\n",
    "print(vrf_sd_cml['scaler'].mean_, vrf_sd_cml['scaler'].scale_, sep='\\t')\n",
    "\n",
    "test_set = ds.VRFDataset(mt_delta_series_test, scaler=vrf_sd_cml['scaler'])\n",
    "test_loader = torch.utils.data.DataLoader(test_set, batch_size=1, collate_fn=test_set.pad_collate)\n",
    "\n",
    "\n",
    "vrf_sd_cml_model = ml.VesselRouteForecasting(\n",
    "    hidden_size=350, fc_layers=[150,], scale=dict(\n",
    "        mu=torch.tensor(vrf_sd_cml['scaler'].mean_[:2]), \n",
    "        sigma=torch.tensor(vrf_sd_cml['scaler'].scale_[:2])\n",
    "    )\n",
    ")\n",
    "vrf_sd_cml_model.load_state_dict(vrf_sd_cml['model_state_dict'])\n",
    "vrf_sd_cml_model.eval()\n",
    "\n",
    "tr.evaluate_model(vrf_sd_cml_model, torch.device('cpu'), criterion=tr.RMSELoss(eps=1e-4), test_loader=test_loader)"
   ]
  },
  {
   "cell_type": "code",
   "execution_count": null,
   "metadata": {},
   "outputs": [],
   "source": []
  },
  {
   "cell_type": "code",
   "execution_count": 5,
   "metadata": {},
   "outputs": [
    {
     "name": "stdout",
     "output_type": "stream",
     "text": [
      "self.eps=0.0001\n"
     ]
    },
    {
     "name": "stderr",
     "output_type": "stream",
     "text": [
      "                                                                            \r"
     ]
    },
    {
     "name": "stdout",
     "output_type": "stream",
     "text": [
      "Loss: 1170.01111 |  Accuracy: 1654.64543 | 903.18347; 2917.02447; 4924.00062; 5909.73920; 7437.49085; 12748.15952; 9870.93581 m\n"
     ]
    },
    {
     "data": {
      "text/plain": [
       "(tensor(1170.0111), 1654.6454311191221)"
      ]
     },
     "execution_count": 5,
     "metadata": {},
     "output_type": "execute_result"
    }
   ],
   "source": [
    "# FedVRF\n",
    "vrf_fl = torch.load('./data/pth/fl/lstm_1_350_fc_150_window_1024_stride_1024_crs_3857___.flwr_global_epoch170.pth', map_location=torch.device('cpu'))\n",
    "\n",
    "train_set = ds.VRFDataset(mt_delta_series_train)\n",
    "test_set = ds.VRFDataset(mt_delta_series_test, scaler=train_set.scaler)\n",
    "test_loader = torch.utils.data.DataLoader(test_set, batch_size=1, collate_fn=test_set.pad_collate)\n",
    "\n",
    "fed_vrf = ml.VesselRouteForecasting(\n",
    "    hidden_size=350, fc_layers=[150,], scale=dict(\n",
    "        mu=torch.tensor(train_set.scaler.mean_[:2]), \n",
    "        sigma=torch.tensor(train_set.scaler.scale_[:2])\n",
    "    )\n",
    ")\n",
    "fed_vrf.load_state_dict(vrf_fl['model_state_dict'])\n",
    "fed_vrf.eval()\n",
    "\n",
    "tr.evaluate_model(fed_vrf, torch.device('cpu'), criterion=tr.RMSELoss(eps=1e-4), test_loader=test_loader)"
   ]
  },
  {
   "cell_type": "code",
   "execution_count": null,
   "metadata": {},
   "outputs": [],
   "source": []
  },
  {
   "cell_type": "code",
   "execution_count": 5,
   "metadata": {},
   "outputs": [
    {
     "name": "stdout",
     "output_type": "stream",
     "text": [
      "self.eps=0.0001\n"
     ]
    },
    {
     "name": "stderr",
     "output_type": "stream",
     "text": [
      "                                                                            \r"
     ]
    },
    {
     "name": "stdout",
     "output_type": "stream",
     "text": [
      "Loss: 1180.60608 |  Accuracy: 1669.62919 | 947.07026; 2829.92602; 4866.28962; 6042.88501; 7534.40436; 11548.54689; 10034.59894 m\n"
     ]
    },
    {
     "data": {
      "text/plain": [
       "(tensor(1180.6061), 1669.629193045298)"
      ]
     },
     "execution_count": 5,
     "metadata": {},
     "output_type": "execute_result"
    }
   ],
   "source": [
    "# VRF (PerFL)\n",
    "vrf_perfl = torch.load('./data/pth/perfl/lstm_1_350_fc_150_window_1024_stride_1024_crs_3857___.flwr_global_epoch170.pth', map_location=torch.device('cpu'))\n",
    "\n",
    "train_set = ds.VRFDataset(mt_delta_series_train)\n",
    "test_set = ds.VRFDataset(mt_delta_series_test, scaler=train_set.scaler)\n",
    "test_loader = torch.utils.data.DataLoader(test_set, batch_size=1, collate_fn=test_set.pad_collate)\n",
    "\n",
    "fed_vrf = ml.VesselRouteForecasting(\n",
    "    hidden_size=350, fc_layers=[150,], scale=dict(\n",
    "        mu=torch.tensor(train_set.scaler.mean_[:2]), \n",
    "        sigma=torch.tensor(train_set.scaler.scale_[:2])\n",
    "    )\n",
    ")\n",
    "fed_vrf.load_state_dict(vrf_perfl['model_state_dict'])\n",
    "fed_vrf.eval()\n",
    "\n",
    "tr.evaluate_model(fed_vrf, torch.device('cpu'), criterion=tr.RMSELoss(eps=1e-4), test_loader=test_loader)"
   ]
  },
  {
   "cell_type": "code",
   "execution_count": null,
   "metadata": {},
   "outputs": [],
   "source": []
  }
 ],
 "metadata": {
  "kernelspec": {
   "display_name": "Python (PyTorch)",
   "language": "python",
   "name": "torch"
  },
  "language_info": {
   "codemirror_mode": {
    "name": "ipython",
    "version": 3
   },
   "file_extension": ".py",
   "mimetype": "text/x-python",
   "name": "python",
   "nbconvert_exporter": "python",
   "pygments_lexer": "ipython3",
   "version": "3.10.0"
  },
  "orig_nbformat": 4
 },
 "nbformat": 4,
 "nbformat_minor": 2
}
